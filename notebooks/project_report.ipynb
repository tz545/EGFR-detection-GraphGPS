{
 "cells": [
  {
   "cell_type": "code",
   "execution_count": 1,
   "id": "50278b24",
   "metadata": {},
   "outputs": [],
   "source": [
    "import pandas as pd\n",
    "import numpy as np \n",
    "import matplotlib.pyplot as plt"
   ]
  },
  {
   "cell_type": "markdown",
   "id": "cc9da538",
   "metadata": {},
   "source": [
    "# Report Outline:\n",
    "\n",
    "1. Data exploration\n",
    "2. A baseline for the regression task\n",
    "3. Predicting EGFR potency using a finetuned GraphGPS model"
   ]
  },
  {
   "cell_type": "markdown",
   "id": "98144016",
   "metadata": {},
   "source": [
    "# 1. Data exploration"
   ]
  },
  {
   "cell_type": "code",
   "execution_count": 3,
   "id": "a4ec8851",
   "metadata": {},
   "outputs": [
    {
     "data": {
      "text/html": [
       "<div>\n",
       "<style scoped>\n",
       "    .dataframe tbody tr th:only-of-type {\n",
       "        vertical-align: middle;\n",
       "    }\n",
       "\n",
       "    .dataframe tbody tr th {\n",
       "        vertical-align: top;\n",
       "    }\n",
       "\n",
       "    .dataframe thead th {\n",
       "        text-align: right;\n",
       "    }\n",
       "</style>\n",
       "<table border=\"1\" class=\"dataframe\">\n",
       "  <thead>\n",
       "    <tr style=\"text-align: right;\">\n",
       "      <th></th>\n",
       "      <th>molecule_chembl_id</th>\n",
       "      <th>IC50</th>\n",
       "      <th>units</th>\n",
       "      <th>smiles</th>\n",
       "      <th>pIC50</th>\n",
       "      <th>molecular_weight</th>\n",
       "      <th>n_hba</th>\n",
       "      <th>n_hbd</th>\n",
       "      <th>logp</th>\n",
       "      <th>ro5_fulfilled</th>\n",
       "    </tr>\n",
       "  </thead>\n",
       "  <tbody>\n",
       "    <tr>\n",
       "      <th>0</th>\n",
       "      <td>CHEMBL63786</td>\n",
       "      <td>0.003</td>\n",
       "      <td>nM</td>\n",
       "      <td>Brc1cccc(Nc2ncnc3cc4ccccc4cc23)c1</td>\n",
       "      <td>11.522879</td>\n",
       "      <td>349.021459</td>\n",
       "      <td>3</td>\n",
       "      <td>1</td>\n",
       "      <td>5.2891</td>\n",
       "      <td>True</td>\n",
       "    </tr>\n",
       "    <tr>\n",
       "      <th>1</th>\n",
       "      <td>CHEMBL35820</td>\n",
       "      <td>0.006</td>\n",
       "      <td>nM</td>\n",
       "      <td>CCOc1cc2ncnc(Nc3cccc(Br)c3)c2cc1OCC</td>\n",
       "      <td>11.221849</td>\n",
       "      <td>387.058239</td>\n",
       "      <td>5</td>\n",
       "      <td>1</td>\n",
       "      <td>4.9333</td>\n",
       "      <td>True</td>\n",
       "    </tr>\n",
       "    <tr>\n",
       "      <th>2</th>\n",
       "      <td>CHEMBL53711</td>\n",
       "      <td>0.006</td>\n",
       "      <td>nM</td>\n",
       "      <td>CN(C)c1cc2c(Nc3cccc(Br)c3)ncnc2cn1</td>\n",
       "      <td>11.221849</td>\n",
       "      <td>343.043258</td>\n",
       "      <td>5</td>\n",
       "      <td>1</td>\n",
       "      <td>3.5969</td>\n",
       "      <td>True</td>\n",
       "    </tr>\n",
       "    <tr>\n",
       "      <th>3</th>\n",
       "      <td>CHEMBL66031</td>\n",
       "      <td>0.008</td>\n",
       "      <td>nM</td>\n",
       "      <td>Brc1cccc(Nc2ncnc3cc4[nH]cnc4cc23)c1</td>\n",
       "      <td>11.096910</td>\n",
       "      <td>339.011957</td>\n",
       "      <td>4</td>\n",
       "      <td>2</td>\n",
       "      <td>4.0122</td>\n",
       "      <td>True</td>\n",
       "    </tr>\n",
       "    <tr>\n",
       "      <th>4</th>\n",
       "      <td>CHEMBL53753</td>\n",
       "      <td>0.008</td>\n",
       "      <td>nM</td>\n",
       "      <td>CNc1cc2c(Nc3cccc(Br)c3)ncnc2cn1</td>\n",
       "      <td>11.096910</td>\n",
       "      <td>329.027607</td>\n",
       "      <td>5</td>\n",
       "      <td>2</td>\n",
       "      <td>3.5726</td>\n",
       "      <td>True</td>\n",
       "    </tr>\n",
       "  </tbody>\n",
       "</table>\n",
       "</div>"
      ],
      "text/plain": [
       "  molecule_chembl_id   IC50 units                               smiles  \\\n",
       "0        CHEMBL63786  0.003    nM    Brc1cccc(Nc2ncnc3cc4ccccc4cc23)c1   \n",
       "1        CHEMBL35820  0.006    nM  CCOc1cc2ncnc(Nc3cccc(Br)c3)c2cc1OCC   \n",
       "2        CHEMBL53711  0.006    nM   CN(C)c1cc2c(Nc3cccc(Br)c3)ncnc2cn1   \n",
       "3        CHEMBL66031  0.008    nM  Brc1cccc(Nc2ncnc3cc4[nH]cnc4cc23)c1   \n",
       "4        CHEMBL53753  0.008    nM      CNc1cc2c(Nc3cccc(Br)c3)ncnc2cn1   \n",
       "\n",
       "       pIC50  molecular_weight  n_hba  n_hbd    logp  ro5_fulfilled  \n",
       "0  11.522879        349.021459      3      1  5.2891           True  \n",
       "1  11.221849        387.058239      5      1  4.9333           True  \n",
       "2  11.221849        343.043258      5      1  3.5969           True  \n",
       "3  11.096910        339.011957      4      2  4.0122           True  \n",
       "4  11.096910        329.027607      5      2  3.5726           True  "
      ]
     },
     "execution_count": 3,
     "metadata": {},
     "output_type": "execute_result"
    }
   ],
   "source": [
    "data = pd.read_csv(\"../datasets/EGFR/raw/EGFR_compounds_lipinsky.csv\", index_col=0)\n",
    "data.head()"
   ]
  },
  {
   "cell_type": "markdown",
   "id": "4169f679",
   "metadata": {},
   "source": [
    "First I want to know which columns contain relevant information and what they represent. On first glance it seems like the `units` and `ro5_fulfulled` columns contain the same values for all rows. If this is true, we can ignore these columns. "
   ]
  },
  {
   "cell_type": "code",
   "execution_count": 4,
   "id": "d35dc920",
   "metadata": {},
   "outputs": [
    {
     "name": "stdout",
     "output_type": "stream",
     "text": [
      "['nM']\n",
      "[ True]\n"
     ]
    }
   ],
   "source": [
    "print(data[\"units\"].unique())\n",
    "print(data[\"ro5_fulfilled\"].unique())"
   ]
  },
  {
   "cell_type": "markdown",
   "id": "46e48b9b",
   "metadata": {},
   "source": [
    "`molecule_chembl_id`: the identifier of the molecule in the ChEMBL dataset (bioactive molecules with drug-like properties). "
   ]
  },
  {
   "cell_type": "markdown",
   "id": "475c1ba2",
   "metadata": {},
   "source": [
    "`IC50`: the amount of substance needed to inhibit a process (*in vitro*) by 50%  \n",
    "`pIC50`: -log10(IC50)"
   ]
  },
  {
   "cell_type": "markdown",
   "id": "125e2c2d",
   "metadata": {},
   "source": [
    "`smiles`: [SMILES strings](https://docs.eyesopen.com/toolkits/python/glossary.html#term-SMARTS) represent a molecule by describing its molecular graph. This can be used to build a molecule graph (e.g. for PyTorch Geometric). Alternatively, 2D molecular descriptors (e.g. structural keys) can be used. Strutural keys such as MACCS keys are binary bit strings where each bit represents a pre-defined feature (e.g. substructure/fragment). These keys can compared in a similar manner as embeddings, and similarity between two molecules can be computed using the Hamming distance. "
   ]
  },
  {
   "cell_type": "markdown",
   "id": "222684af",
   "metadata": {},
   "source": [
    "The following features affect the absorption and permeation properties of the molecule, which are important for evaluating the molecule as a drug candidate, but are unlikely to affect the potency value. I would include them in a more general model where the aim is to predict the general potential of the molecule as a drug, but not in the current task, where I am only interested in predicting pIC50. "
   ]
  },
  {
   "cell_type": "markdown",
   "id": "51490d81",
   "metadata": {},
   "source": [
    "`molecular weight`: The [Lipinsky rule of 5](https://www.sciencedirect.com/science/article/pii/S0169409X96004231) states that poor absorption or permeation is more likely when the molecular weight is over 500"
   ]
  },
  {
   "cell_type": "markdown",
   "id": "5442b1a1",
   "metadata": {},
   "source": [
    "`n_hba`: number of H-bond acceptors. The Rule of 5 applies when there are more than 10 H-bond acceptors"
   ]
  },
  {
   "cell_type": "markdown",
   "id": "6f3dc2a0",
   "metadata": {},
   "source": [
    "`n_hbd`: number of H-bond donors. The Rule of 5 applies when there are more than 5 H-bond donors. "
   ]
  },
  {
   "cell_type": "markdown",
   "id": "e73e6df3",
   "metadata": {},
   "source": [
    "`logp`: The Rule of 5 applies when LogP is over 5. "
   ]
  },
  {
   "cell_type": "markdown",
   "id": "7944ba71",
   "metadata": {},
   "source": [
    "## Data distribution"
   ]
  },
  {
   "cell_type": "code",
   "execution_count": 6,
   "id": "edd1f31d",
   "metadata": {},
   "outputs": [
    {
     "data": {
      "image/png": "[encoded data removed]",
      "text/plain": [
       "<Figure size 640x480 with 1 Axes>"
      ]
     },
     "metadata": {},
     "output_type": "display_data"
    }
   ],
   "source": [
    "pIC50 = data[\"pIC50\"].to_numpy()\n",
    "plt.hist(pIC50, bins=50, density=True)\n",
    "plt.xlabel(\"pIC50 value\")\n",
    "plt.ylabel(\"Relative frequency\")\n",
    "plt.show()"
   ]
  },
  {
   "cell_type": "markdown",
   "id": "85c4596d",
   "metadata": {},
   "source": [
    "The dataset is relatively evenly distributed, the values we are interested in, pIC50 > 8 are not in the extreme tail end of the distribution, and there are no gaps in the data. "
   ]
  },
  {
   "cell_type": "markdown",
   "id": "d46f7580",
   "metadata": {},
   "source": [
    "# 2. A baseline for the regression task\n",
    "\n",
    "Even though we are asked to predict whether compounds have a pIC50 > 8, I believe framing this as a regression task which outputs the pIC50 value is more appropriate beceause:\n",
    "\n",
    "1. pIC50 is a continous variable\n",
    "2. I cannot think of a reason which would make compounds with pIC50 slighly higher than 8 *categorically different* from compounds with pIC50 slightly lower than 8. Therefore I don't think it makes sense to build a classification model which would spend more resources on learning the slight differences between molecules with pIC50 $\\approx 8$, and lose the advantage of a linear model which can learn from all the data. However, if this assumption is wrong, and there is a reason for an absolute cut-off at pIC50 = 8, a classifcation model would be more appropriate.  \n",
    "\n",
    "I first use a random forest regressor to establish a baseline for the problem, with which I will compare the results of my main approach (finetuning using a pre-trained [GraphGPS](https://arxiv.org/abs/2205.12454) model). I chose the random forest regressor because we do not require extrapolation, and assumptions about no co-linearity can be relaxed with the random forest model (since the MACCS bits do not necessarily contain independent information). "
   ]
  },
  {
   "cell_type": "markdown",
   "id": "6c4a3bc2",
   "metadata": {},
   "source": [
    "For this baseline model, I will encode the SMILES strings as MACCS structural keys, as in the [cheminfomatics tutorial](https://projects.volkamerlab.org/teachopencadd/talktorials/T007_compound_activity_machine_learning.html). In this section, the SMILES strings are converted, each bit of the MACCS key is treated as an independent variable, and the test-train split is done. "
   ]
  },
  {
   "cell_type": "code",
   "execution_count": 28,
   "id": "7093424b",
   "metadata": {},
   "outputs": [],
   "source": [
    "from sklearn.ensemble import RandomForestRegressor\n",
    "from sklearn.model_selection import train_test_split, cross_val_score, KFold, RandomizedSearchCV\n",
    "from rdkit import Chem\n",
    "from rdkit.Chem import MACCSkeys"
   ]
  },
  {
   "cell_type": "code",
   "execution_count": 16,
   "id": "a67cc683",
   "metadata": {},
   "outputs": [],
   "source": [
    "def smiles_to_maccs(smiles):\n",
    "    mol = Chem.MolFromSmiles(smiles)\n",
    "    return list(MACCSkeys.GenMACCSKeys(mol))"
   ]
  },
  {
   "cell_type": "code",
   "execution_count": 18,
   "id": "715d925e",
   "metadata": {},
   "outputs": [],
   "source": [
    "data[\"maccs\"] = data[\"smiles\"].apply(smiles_to_maccs)"
   ]
  },
  {
   "cell_type": "code",
   "execution_count": 22,
   "id": "31b78c6a",
   "metadata": {},
   "outputs": [
    {
     "data": {
      "text/html": [
       "<div>\n",
       "<style scoped>\n",
       "    .dataframe tbody tr th:only-of-type {\n",
       "        vertical-align: middle;\n",
       "    }\n",
       "\n",
       "    .dataframe tbody tr th {\n",
       "        vertical-align: top;\n",
       "    }\n",
       "\n",
       "    .dataframe thead th {\n",
       "        text-align: right;\n",
       "    }\n",
       "</style>\n",
       "<table border=\"1\" class=\"dataframe\">\n",
       "  <thead>\n",
       "    <tr style=\"text-align: right;\">\n",
       "      <th></th>\n",
       "      <th>maccs_0</th>\n",
       "      <th>maccs_1</th>\n",
       "      <th>maccs_2</th>\n",
       "      <th>maccs_3</th>\n",
       "      <th>maccs_4</th>\n",
       "      <th>maccs_5</th>\n",
       "      <th>maccs_6</th>\n",
       "      <th>maccs_7</th>\n",
       "      <th>maccs_8</th>\n",
       "      <th>maccs_9</th>\n",
       "      <th>...</th>\n",
       "      <th>maccs_157</th>\n",
       "      <th>maccs_158</th>\n",
       "      <th>maccs_159</th>\n",
       "      <th>maccs_160</th>\n",
       "      <th>maccs_161</th>\n",
       "      <th>maccs_162</th>\n",
       "      <th>maccs_163</th>\n",
       "      <th>maccs_164</th>\n",
       "      <th>maccs_165</th>\n",
       "      <th>maccs_166</th>\n",
       "    </tr>\n",
       "  </thead>\n",
       "  <tbody>\n",
       "    <tr>\n",
       "      <th>0</th>\n",
       "      <td>0</td>\n",
       "      <td>0</td>\n",
       "      <td>0</td>\n",
       "      <td>0</td>\n",
       "      <td>0</td>\n",
       "      <td>0</td>\n",
       "      <td>0</td>\n",
       "      <td>0</td>\n",
       "      <td>0</td>\n",
       "      <td>0</td>\n",
       "      <td>...</td>\n",
       "      <td>0</td>\n",
       "      <td>1</td>\n",
       "      <td>0</td>\n",
       "      <td>0</td>\n",
       "      <td>1</td>\n",
       "      <td>1</td>\n",
       "      <td>1</td>\n",
       "      <td>0</td>\n",
       "      <td>1</td>\n",
       "      <td>0</td>\n",
       "    </tr>\n",
       "    <tr>\n",
       "      <th>1</th>\n",
       "      <td>0</td>\n",
       "      <td>0</td>\n",
       "      <td>0</td>\n",
       "      <td>0</td>\n",
       "      <td>0</td>\n",
       "      <td>0</td>\n",
       "      <td>0</td>\n",
       "      <td>0</td>\n",
       "      <td>0</td>\n",
       "      <td>0</td>\n",
       "      <td>...</td>\n",
       "      <td>1</td>\n",
       "      <td>1</td>\n",
       "      <td>1</td>\n",
       "      <td>1</td>\n",
       "      <td>1</td>\n",
       "      <td>1</td>\n",
       "      <td>1</td>\n",
       "      <td>1</td>\n",
       "      <td>1</td>\n",
       "      <td>0</td>\n",
       "    </tr>\n",
       "    <tr>\n",
       "      <th>2</th>\n",
       "      <td>0</td>\n",
       "      <td>0</td>\n",
       "      <td>0</td>\n",
       "      <td>0</td>\n",
       "      <td>0</td>\n",
       "      <td>0</td>\n",
       "      <td>0</td>\n",
       "      <td>0</td>\n",
       "      <td>0</td>\n",
       "      <td>0</td>\n",
       "      <td>...</td>\n",
       "      <td>0</td>\n",
       "      <td>1</td>\n",
       "      <td>0</td>\n",
       "      <td>1</td>\n",
       "      <td>1</td>\n",
       "      <td>1</td>\n",
       "      <td>1</td>\n",
       "      <td>0</td>\n",
       "      <td>1</td>\n",
       "      <td>0</td>\n",
       "    </tr>\n",
       "    <tr>\n",
       "      <th>3</th>\n",
       "      <td>0</td>\n",
       "      <td>0</td>\n",
       "      <td>0</td>\n",
       "      <td>0</td>\n",
       "      <td>0</td>\n",
       "      <td>0</td>\n",
       "      <td>0</td>\n",
       "      <td>0</td>\n",
       "      <td>0</td>\n",
       "      <td>0</td>\n",
       "      <td>...</td>\n",
       "      <td>0</td>\n",
       "      <td>1</td>\n",
       "      <td>0</td>\n",
       "      <td>0</td>\n",
       "      <td>1</td>\n",
       "      <td>1</td>\n",
       "      <td>1</td>\n",
       "      <td>0</td>\n",
       "      <td>1</td>\n",
       "      <td>0</td>\n",
       "    </tr>\n",
       "    <tr>\n",
       "      <th>4</th>\n",
       "      <td>0</td>\n",
       "      <td>0</td>\n",
       "      <td>0</td>\n",
       "      <td>0</td>\n",
       "      <td>0</td>\n",
       "      <td>0</td>\n",
       "      <td>0</td>\n",
       "      <td>0</td>\n",
       "      <td>0</td>\n",
       "      <td>0</td>\n",
       "      <td>...</td>\n",
       "      <td>0</td>\n",
       "      <td>1</td>\n",
       "      <td>0</td>\n",
       "      <td>1</td>\n",
       "      <td>1</td>\n",
       "      <td>1</td>\n",
       "      <td>1</td>\n",
       "      <td>0</td>\n",
       "      <td>1</td>\n",
       "      <td>0</td>\n",
       "    </tr>\n",
       "  </tbody>\n",
       "</table>\n",
       "<p>5 rows × 167 columns</p>\n",
       "</div>"
      ],
      "text/plain": [
       "   maccs_0  maccs_1  maccs_2  maccs_3  maccs_4  maccs_5  maccs_6  maccs_7  \\\n",
       "0        0        0        0        0        0        0        0        0   \n",
       "1        0        0        0        0        0        0        0        0   \n",
       "2        0        0        0        0        0        0        0        0   \n",
       "3        0        0        0        0        0        0        0        0   \n",
       "4        0        0        0        0        0        0        0        0   \n",
       "\n",
       "   maccs_8  maccs_9  ...  maccs_157  maccs_158  maccs_159  maccs_160  \\\n",
       "0        0        0  ...          0          1          0          0   \n",
       "1        0        0  ...          1          1          1          1   \n",
       "2        0        0  ...          0          1          0          1   \n",
       "3        0        0  ...          0          1          0          0   \n",
       "4        0        0  ...          0          1          0          1   \n",
       "\n",
       "   maccs_161  maccs_162  maccs_163  maccs_164  maccs_165  maccs_166  \n",
       "0          1          1          1          0          1          0  \n",
       "1          1          1          1          1          1          0  \n",
       "2          1          1          1          0          1          0  \n",
       "3          1          1          1          0          1          0  \n",
       "4          1          1          1          0          1          0  \n",
       "\n",
       "[5 rows x 167 columns]"
      ]
     },
     "execution_count": 22,
     "metadata": {},
     "output_type": "execute_result"
    }
   ],
   "source": [
    "X = pd.DataFrame(data[\"maccs\"].to_list(), columns=[\"maccs_{0}\".format(i) for i in range(167)])\n",
    "X.head()"
   ]
  },
  {
   "cell_type": "code",
   "execution_count": 26,
   "id": "f7dfc34c",
   "metadata": {},
   "outputs": [],
   "source": [
    "y = data[\"pIC50\"]"
   ]
  },
  {
   "cell_type": "code",
   "execution_count": 27,
   "id": "89ebca16",
   "metadata": {},
   "outputs": [],
   "source": [
    "X_train, X_test, y_train, y_test = train_test_split(X, y, test_size=0.2, random_state=42)"
   ]
  },
  {
   "cell_type": "markdown",
   "id": "a9246042",
   "metadata": {},
   "source": [
    "Next I set up the model and performed a randomized hyperparameter search using cross validation"
   ]
  },
  {
   "cell_type": "code",
   "execution_count": 45,
   "id": "0a45cadd",
   "metadata": {},
   "outputs": [
    {
     "data": {
      "text/html": [
       "<style>#sk-container-id-2 {color: black;background-color: white;}#sk-container-id-2 pre{padding: 0;}#sk-container-id-2 div.sk-toggleable {background-color: white;}#sk-container-id-2 label.sk-toggleable__label {cursor: pointer;display: block;width: 100%;margin-bottom: 0;padding: 0.3em;box-sizing: border-box;text-align: center;}#sk-container-id-2 label.sk-toggleable__label-arrow:before {content: \"▸\";float: left;margin-right: 0.25em;color: #696969;}#sk-container-id-2 label.sk-toggleable__label-arrow:hover:before {color: black;}#sk-container-id-2 div.sk-estimator:hover label.sk-toggleable__label-arrow:before {color: black;}#sk-container-id-2 div.sk-toggleable__content {max-height: 0;max-width: 0;overflow: hidden;text-align: left;background-color: #f0f8ff;}#sk-container-id-2 div.sk-toggleable__content pre {margin: 0.2em;color: black;border-radius: 0.25em;background-color: #f0f8ff;}#sk-container-id-2 input.sk-toggleable__control:checked~div.sk-toggleable__content {max-height: 200px;max-width: 100%;overflow: auto;}#sk-container-id-2 input.sk-toggleable__control:checked~label.sk-toggleable__label-arrow:before {content: \"▾\";}#sk-container-id-2 div.sk-estimator input.sk-toggleable__control:checked~label.sk-toggleable__label {background-color: #d4ebff;}#sk-container-id-2 div.sk-label input.sk-toggleable__control:checked~label.sk-toggleable__label {background-color: #d4ebff;}#sk-container-id-2 input.sk-hidden--visually {border: 0;clip: rect(1px 1px 1px 1px);clip: rect(1px, 1px, 1px, 1px);height: 1px;margin: -1px;overflow: hidden;padding: 0;position: absolute;width: 1px;}#sk-container-id-2 div.sk-estimator {font-family: monospace;background-color: #f0f8ff;border: 1px dotted black;border-radius: 0.25em;box-sizing: border-box;margin-bottom: 0.5em;}#sk-container-id-2 div.sk-estimator:hover {background-color: #d4ebff;}#sk-container-id-2 div.sk-parallel-item::after {content: \"\";width: 100%;border-bottom: 1px solid gray;flex-grow: 1;}#sk-container-id-2 div.sk-label:hover label.sk-toggleable__label {background-color: #d4ebff;}#sk-container-id-2 div.sk-serial::before {content: \"\";position: absolute;border-left: 1px solid gray;box-sizing: border-box;top: 0;bottom: 0;left: 50%;z-index: 0;}#sk-container-id-2 div.sk-serial {display: flex;flex-direction: column;align-items: center;background-color: white;padding-right: 0.2em;padding-left: 0.2em;position: relative;}#sk-container-id-2 div.sk-item {position: relative;z-index: 1;}#sk-container-id-2 div.sk-parallel {display: flex;align-items: stretch;justify-content: center;background-color: white;position: relative;}#sk-container-id-2 div.sk-item::before, #sk-container-id-2 div.sk-parallel-item::before {content: \"\";position: absolute;border-left: 1px solid gray;box-sizing: border-box;top: 0;bottom: 0;left: 50%;z-index: -1;}#sk-container-id-2 div.sk-parallel-item {display: flex;flex-direction: column;z-index: 1;position: relative;background-color: white;}#sk-container-id-2 div.sk-parallel-item:first-child::after {align-self: flex-end;width: 50%;}#sk-container-id-2 div.sk-parallel-item:last-child::after {align-self: flex-start;width: 50%;}#sk-container-id-2 div.sk-parallel-item:only-child::after {width: 0;}#sk-container-id-2 div.sk-dashed-wrapped {border: 1px dashed gray;margin: 0 0.4em 0.5em 0.4em;box-sizing: border-box;padding-bottom: 0.4em;background-color: white;}#sk-container-id-2 div.sk-label label {font-family: monospace;font-weight: bold;display: inline-block;line-height: 1.2em;}#sk-container-id-2 div.sk-label-container {text-align: center;}#sk-container-id-2 div.sk-container {/* jupyter's `normalize.less` sets `[hidden] { display: none; }` but bootstrap.min.css set `[hidden] { display: none !important; }` so we also need the `!important` here to be able to override the default hidden behavior on the sphinx rendered scikit-learn.org. See: https://github.com/scikit-learn/scikit-learn/issues/21755 */display: inline-block !important;position: relative;}#sk-container-id-2 div.sk-text-repr-fallback {display: none;}</style><div id=\"sk-container-id-2\" class=\"sk-top-container\"><div class=\"sk-text-repr-fallback\"><pre>RandomizedSearchCV(estimator=RandomForestRegressor(), n_iter=20,\n",
       "                   param_distributions={&#x27;max_depth&#x27;: [2, 3, None],\n",
       "                                        &#x27;max_features&#x27;: [&#x27;sqrt&#x27;, None],\n",
       "                                        &#x27;max_leaf_nodes&#x27;: [10, 20, None],\n",
       "                                        &#x27;min_samples_leaf&#x27;: [1, 2, 5],\n",
       "                                        &#x27;min_samples_split&#x27;: [2, 10],\n",
       "                                        &#x27;n_estimators&#x27;: [100, 200]},\n",
       "                   scoring=&#x27;neg_mean_absolute_error&#x27;)</pre><b>In a Jupyter environment, please rerun this cell to show the HTML representation or trust the notebook. <br />On GitHub, the HTML representation is unable to render, please try loading this page with nbviewer.org.</b></div><div class=\"sk-container\" hidden><div class=\"sk-item sk-dashed-wrapped\"><div class=\"sk-label-container\"><div class=\"sk-label sk-toggleable\"><input class=\"sk-toggleable__control sk-hidden--visually\" id=\"sk-estimator-id-4\" type=\"checkbox\" ><label for=\"sk-estimator-id-4\" class=\"sk-toggleable__label sk-toggleable__label-arrow\">RandomizedSearchCV</label><div class=\"sk-toggleable__content\"><pre>RandomizedSearchCV(estimator=RandomForestRegressor(), n_iter=20,\n",
       "                   param_distributions={&#x27;max_depth&#x27;: [2, 3, None],\n",
       "                                        &#x27;max_features&#x27;: [&#x27;sqrt&#x27;, None],\n",
       "                                        &#x27;max_leaf_nodes&#x27;: [10, 20, None],\n",
       "                                        &#x27;min_samples_leaf&#x27;: [1, 2, 5],\n",
       "                                        &#x27;min_samples_split&#x27;: [2, 10],\n",
       "                                        &#x27;n_estimators&#x27;: [100, 200]},\n",
       "                   scoring=&#x27;neg_mean_absolute_error&#x27;)</pre></div></div></div><div class=\"sk-parallel\"><div class=\"sk-parallel-item\"><div class=\"sk-item\"><div class=\"sk-label-container\"><div class=\"sk-label sk-toggleable\"><input class=\"sk-toggleable__control sk-hidden--visually\" id=\"sk-estimator-id-5\" type=\"checkbox\" ><label for=\"sk-estimator-id-5\" class=\"sk-toggleable__label sk-toggleable__label-arrow\">estimator: RandomForestRegressor</label><div class=\"sk-toggleable__content\"><pre>RandomForestRegressor()</pre></div></div></div><div class=\"sk-serial\"><div class=\"sk-item\"><div class=\"sk-estimator sk-toggleable\"><input class=\"sk-toggleable__control sk-hidden--visually\" id=\"sk-estimator-id-6\" type=\"checkbox\" ><label for=\"sk-estimator-id-6\" class=\"sk-toggleable__label sk-toggleable__label-arrow\">RandomForestRegressor</label><div class=\"sk-toggleable__content\"><pre>RandomForestRegressor()</pre></div></div></div></div></div></div></div></div></div></div>"
      ],
      "text/plain": [
       "RandomizedSearchCV(estimator=RandomForestRegressor(), n_iter=20,\n",
       "                   param_distributions={'max_depth': [2, 3, None],\n",
       "                                        'max_features': ['sqrt', None],\n",
       "                                        'max_leaf_nodes': [10, 20, None],\n",
       "                                        'min_samples_leaf': [1, 2, 5],\n",
       "                                        'min_samples_split': [2, 10],\n",
       "                                        'n_estimators': [100, 200]},\n",
       "                   scoring='neg_mean_absolute_error')"
      ]
     },
     "execution_count": 45,
     "metadata": {},
     "output_type": "execute_result"
    }
   ],
   "source": [
    "model = RandomForestRegressor(n_estimators=100)\n",
    "params = {\n",
    "    \"max_depth\": [2, 3, None], # default None\n",
    "    \"max_leaf_nodes\": [10, 20, None], # default None\n",
    "    \"min_samples_split\": [2, 10], # default 2\n",
    "    \"max_features\": [\"sqrt\", None], # default None=n_features\n",
    "    \"min_samples_leaf\":[1, 2, 5], # default is 1\n",
    "    \"n_estimators\": [100, 200], # default 100\n",
    "}\n",
    "\n",
    "clf = RandomizedSearchCV(model, params, scoring='neg_mean_absolute_error', n_iter=20)\n",
    "clf.fit(X_train,y_train)"
   ]
  },
  {
   "cell_type": "code",
   "execution_count": 46,
   "id": "61d5b6a1",
   "metadata": {},
   "outputs": [
    {
     "data": {
      "text/html": [
       "<div>\n",
       "<style scoped>\n",
       "    .dataframe tbody tr th:only-of-type {\n",
       "        vertical-align: middle;\n",
       "    }\n",
       "\n",
       "    .dataframe tbody tr th {\n",
       "        vertical-align: top;\n",
       "    }\n",
       "\n",
       "    .dataframe thead th {\n",
       "        text-align: right;\n",
       "    }\n",
       "</style>\n",
       "<table border=\"1\" class=\"dataframe\">\n",
       "  <thead>\n",
       "    <tr style=\"text-align: right;\">\n",
       "      <th></th>\n",
       "      <th>mean_fit_time</th>\n",
       "      <th>std_fit_time</th>\n",
       "      <th>mean_score_time</th>\n",
       "      <th>std_score_time</th>\n",
       "      <th>param_n_estimators</th>\n",
       "      <th>param_min_samples_split</th>\n",
       "      <th>param_min_samples_leaf</th>\n",
       "      <th>param_max_leaf_nodes</th>\n",
       "      <th>param_max_features</th>\n",
       "      <th>param_max_depth</th>\n",
       "      <th>params</th>\n",
       "      <th>split0_test_score</th>\n",
       "      <th>split1_test_score</th>\n",
       "      <th>split2_test_score</th>\n",
       "      <th>split3_test_score</th>\n",
       "      <th>split4_test_score</th>\n",
       "      <th>mean_test_score</th>\n",
       "      <th>std_test_score</th>\n",
       "      <th>rank_test_score</th>\n",
       "    </tr>\n",
       "  </thead>\n",
       "  <tbody>\n",
       "    <tr>\n",
       "      <th>14</th>\n",
       "      <td>3.027456</td>\n",
       "      <td>0.032606</td>\n",
       "      <td>0.021527</td>\n",
       "      <td>0.000220</td>\n",
       "      <td>200</td>\n",
       "      <td>2</td>\n",
       "      <td>2</td>\n",
       "      <td>None</td>\n",
       "      <td>None</td>\n",
       "      <td>None</td>\n",
       "      <td>{'n_estimators': 200, 'min_samples_split': 2, ...</td>\n",
       "      <td>-0.669586</td>\n",
       "      <td>-0.652911</td>\n",
       "      <td>-0.672031</td>\n",
       "      <td>-0.673883</td>\n",
       "      <td>-0.666342</td>\n",
       "      <td>-0.666950</td>\n",
       "      <td>0.007461</td>\n",
       "      <td>1</td>\n",
       "    </tr>\n",
       "    <tr>\n",
       "      <th>2</th>\n",
       "      <td>0.763073</td>\n",
       "      <td>0.005599</td>\n",
       "      <td>0.005395</td>\n",
       "      <td>0.000053</td>\n",
       "      <td>100</td>\n",
       "      <td>2</td>\n",
       "      <td>2</td>\n",
       "      <td>20</td>\n",
       "      <td>None</td>\n",
       "      <td>None</td>\n",
       "      <td>{'n_estimators': 100, 'min_samples_split': 2, ...</td>\n",
       "      <td>-0.826696</td>\n",
       "      <td>-0.832543</td>\n",
       "      <td>-0.844389</td>\n",
       "      <td>-0.837431</td>\n",
       "      <td>-0.821114</td>\n",
       "      <td>-0.832435</td>\n",
       "      <td>0.008112</td>\n",
       "      <td>2</td>\n",
       "    </tr>\n",
       "    <tr>\n",
       "      <th>9</th>\n",
       "      <td>0.763131</td>\n",
       "      <td>0.005483</td>\n",
       "      <td>0.005491</td>\n",
       "      <td>0.000093</td>\n",
       "      <td>100</td>\n",
       "      <td>10</td>\n",
       "      <td>1</td>\n",
       "      <td>20</td>\n",
       "      <td>None</td>\n",
       "      <td>None</td>\n",
       "      <td>{'n_estimators': 100, 'min_samples_split': 10,...</td>\n",
       "      <td>-0.822666</td>\n",
       "      <td>-0.829633</td>\n",
       "      <td>-0.848024</td>\n",
       "      <td>-0.842652</td>\n",
       "      <td>-0.821508</td>\n",
       "      <td>-0.832897</td>\n",
       "      <td>0.010668</td>\n",
       "      <td>3</td>\n",
       "    </tr>\n",
       "    <tr>\n",
       "      <th>7</th>\n",
       "      <td>1.527134</td>\n",
       "      <td>0.017367</td>\n",
       "      <td>0.009791</td>\n",
       "      <td>0.000083</td>\n",
       "      <td>200</td>\n",
       "      <td>2</td>\n",
       "      <td>2</td>\n",
       "      <td>20</td>\n",
       "      <td>None</td>\n",
       "      <td>None</td>\n",
       "      <td>{'n_estimators': 200, 'min_samples_split': 2, ...</td>\n",
       "      <td>-0.824227</td>\n",
       "      <td>-0.833769</td>\n",
       "      <td>-0.845683</td>\n",
       "      <td>-0.838709</td>\n",
       "      <td>-0.822198</td>\n",
       "      <td>-0.832917</td>\n",
       "      <td>0.008805</td>\n",
       "      <td>4</td>\n",
       "    </tr>\n",
       "    <tr>\n",
       "      <th>0</th>\n",
       "      <td>0.607163</td>\n",
       "      <td>0.011772</td>\n",
       "      <td>0.004860</td>\n",
       "      <td>0.000074</td>\n",
       "      <td>100</td>\n",
       "      <td>2</td>\n",
       "      <td>2</td>\n",
       "      <td>10</td>\n",
       "      <td>None</td>\n",
       "      <td>None</td>\n",
       "      <td>{'n_estimators': 100, 'min_samples_split': 2, ...</td>\n",
       "      <td>-0.871958</td>\n",
       "      <td>-0.877605</td>\n",
       "      <td>-0.894806</td>\n",
       "      <td>-0.881691</td>\n",
       "      <td>-0.866633</td>\n",
       "      <td>-0.878539</td>\n",
       "      <td>0.009597</td>\n",
       "      <td>5</td>\n",
       "    </tr>\n",
       "  </tbody>\n",
       "</table>\n",
       "</div>"
      ],
      "text/plain": [
       "    mean_fit_time  std_fit_time  mean_score_time  std_score_time  \\\n",
       "14       3.027456      0.032606         0.021527        0.000220   \n",
       "2        0.763073      0.005599         0.005395        0.000053   \n",
       "9        0.763131      0.005483         0.005491        0.000093   \n",
       "7        1.527134      0.017367         0.009791        0.000083   \n",
       "0        0.607163      0.011772         0.004860        0.000074   \n",
       "\n",
       "   param_n_estimators param_min_samples_split param_min_samples_leaf  \\\n",
       "14                200                       2                      2   \n",
       "2                 100                       2                      2   \n",
       "9                 100                      10                      1   \n",
       "7                 200                       2                      2   \n",
       "0                 100                       2                      2   \n",
       "\n",
       "   param_max_leaf_nodes param_max_features param_max_depth  \\\n",
       "14                 None               None            None   \n",
       "2                    20               None            None   \n",
       "9                    20               None            None   \n",
       "7                    20               None            None   \n",
       "0                    10               None            None   \n",
       "\n",
       "                                               params  split0_test_score  \\\n",
       "14  {'n_estimators': 200, 'min_samples_split': 2, ...          -0.669586   \n",
       "2   {'n_estimators': 100, 'min_samples_split': 2, ...          -0.826696   \n",
       "9   {'n_estimators': 100, 'min_samples_split': 10,...          -0.822666   \n",
       "7   {'n_estimators': 200, 'min_samples_split': 2, ...          -0.824227   \n",
       "0   {'n_estimators': 100, 'min_samples_split': 2, ...          -0.871958   \n",
       "\n",
       "    split1_test_score  split2_test_score  split3_test_score  \\\n",
       "14          -0.652911          -0.672031          -0.673883   \n",
       "2           -0.832543          -0.844389          -0.837431   \n",
       "9           -0.829633          -0.848024          -0.842652   \n",
       "7           -0.833769          -0.845683          -0.838709   \n",
       "0           -0.877605          -0.894806          -0.881691   \n",
       "\n",
       "    split4_test_score  mean_test_score  std_test_score  rank_test_score  \n",
       "14          -0.666342        -0.666950        0.007461                1  \n",
       "2           -0.821114        -0.832435        0.008112                2  \n",
       "9           -0.821508        -0.832897        0.010668                3  \n",
       "7           -0.822198        -0.832917        0.008805                4  \n",
       "0           -0.866633        -0.878539        0.009597                5  "
      ]
     },
     "execution_count": 46,
     "metadata": {},
     "output_type": "execute_result"
    }
   ],
   "source": [
    "results = pd.DataFrame(clf.cv_results_)\n",
    "results = results.sort_values(\"rank_test_score\")\n",
    "results.head()"
   ]
  },
  {
   "cell_type": "markdown",
   "id": "234fc1cc",
   "metadata": {},
   "source": [
    "I build a model using the best hyperparameters found, and apply it to the test set."
   ]
  },
  {
   "cell_type": "code",
   "execution_count": 48,
   "id": "50e87130",
   "metadata": {},
   "outputs": [
    {
     "data": {
      "text/plain": [
       "{'n_estimators': 200,\n",
       " 'min_samples_split': 2,\n",
       " 'min_samples_leaf': 2,\n",
       " 'max_leaf_nodes': None,\n",
       " 'max_features': None,\n",
       " 'max_depth': None}"
      ]
     },
     "execution_count": 48,
     "metadata": {},
     "output_type": "execute_result"
    }
   ],
   "source": [
    "results[\"params\"][14]"
   ]
  },
  {
   "cell_type": "code",
   "execution_count": 49,
   "id": "bd7153d0",
   "metadata": {},
   "outputs": [
    {
     "name": "stdout",
     "output_type": "stream",
     "text": [
      "Mean absolute error: 0.6565125764572766\n"
     ]
    }
   ],
   "source": [
    "model_best = RandomForestRegressor(n_estimators=200, min_samples_split=2, min_samples_leaf=2, max_leaf_nodes=None, max_features=None, max_depth=None)\n",
    "model_best.fit(X_train, y_train)\n",
    "y_pred = model_best.predict(X_test)\n",
    "mae = np.mean(np.abs(y_pred-y_test))\n",
    "print(\"Mean absolute error: {0}\".format(mae))"
   ]
  },
  {
   "cell_type": "markdown",
   "id": "b8de0a22",
   "metadata": {},
   "source": [
    "# 3. Prediction using a finetuned GraphGPS model"
   ]
  },
  {
   "cell_type": "markdown",
   "id": "9c0d360f",
   "metadata": {},
   "source": [
    "The main model I used for the prediction task is the pretrained GPS-deep from [GraphGPS](https://github.com/rampasek/GraphGPS/tree/main). The model was trained on the PCQM4Mv2 dataset from OGB (predicting the HOMO-LUMO energy gap from 2D molecular graphs). I chose this model as I wanted to learn more about it after seeing its performance on benchmark datasets, and as the EGFR dataset is small, I wanted to leverage the power of a strong model trained on a much larger dataset. I had also not worked with the GraphGym platform before, and wanted to become more familiar with it. \n",
    "\n",
    "\n",
    "In order to finetune the model on the EGFR dataset, I implemented the following steps (links to code changes included):\n",
    "\n",
    "1. Implemented a custom [dataset class](https://github.com/tz545/EGFR-detection-GraphGPS/blob/main/EGFR_addons/dataset_creation.py) which takes the SMILES strings from the csv file and converts them into graphs using the OGB encodings. \n",
    "2. Modified the [master loader function](https://github.com/tz545/EGFR-detection-GraphGPS/blob/main/graphgps/loader/master_loader.py) to extend the config file options and allow loading the EGFR dataset \n",
    "3. Added a [config file](https://github.com/tz545/EGFR-detection-GraphGPS/blob/main/configs/GPS/EGFR-finetune.yaml) for finetuning, with hyperparameters taken from the PCQM4Mv2 training runs. \n",
    "4. Added [unit tests](https://github.com/tz545/EGFR-detection-GraphGPS/tree/main/EGFR_addons/tests) for my dataset class. Unit tests should be run from the EGFR_addons directory using `python -m pytest` (given more time, I would have ideally used the same `unittest` library as the original codebase, and combined my unit tests in the same directory)."
   ]
  },
  {
   "cell_type": "markdown",
   "id": "ed4dd41c",
   "metadata": {},
   "source": [
    "While setting up the finetuning, I also noticed that the encoding for atom chirality in the OGB library has changed in the latest version (1.3.6), such that there are now five options for atom chirality (they added a `misc` option to the previous options of `CHI_UNSPECIFIED`, `CHI_TETRAHEDRAL_CW`, `CHI_TETRAHEDRAL_CCW`, and `CHI_OTHER`). As a result, a model built using the OBG `AtomEncoder` class of version 1.3.6 has a different dimension for one of the embedding layers, and there will be a mismatch of weight dimensions when loading the pretrained model. Reverting back to version 1.3.5 resolves this issue. "
   ]
  },
  {
   "cell_type": "markdown",
   "id": "9964464a",
   "metadata": {},
   "source": [
    "I trained the model for 150 epochs (using Google Colab), but obtained MAEs only slighly below what I obtained using the random forest. I tried increasing and decreasing the learning rate (to 0.001 and 0.00002 from the default 0.0002), but these destabilized the training process and led to larger errors. "
   ]
  },
  {
   "cell_type": "code",
   "execution_count": 51,
   "id": "98339578",
   "metadata": {},
   "outputs": [
    {
     "data": {
      "image/png": "[encoded data removed]",
      "text/plain": [
       "<Figure size 640x480 with 1 Axes>"
      ]
     },
     "metadata": {},
     "output_type": "display_data"
    }
   ],
   "source": [
    "train_mae = pd.read_csv(\"wandb_export_train.csv\")\n",
    "val_mae = pd.read_csv(\"wandb_export_val_mae.csv\")\n",
    "\n",
    "plt.title(\"Train and validation curves with default hyperparameters\")\n",
    "plt.plot(train_mae.iloc[:,0], train_mae.iloc[:,1], c='k', label='Train')\n",
    "plt.plot(val_mae.iloc[:,0], val_mae.iloc[:,1], c='r', label='Val')\n",
    "plt.xlabel(\"Epoch\")\n",
    "plt.ylabel(\"MAE\")\n",
    "plt.legend(loc='best')\n",
    "plt.show()"
   ]
  },
  {
   "cell_type": "markdown",
   "id": "e74bf279",
   "metadata": {},
   "source": [
    "Decreasing the batch size to 36 (from 256) gave some incremental gains, such that the **mean absolute error on the test set was 0.54.**"
   ]
  },
  {
   "cell_type": "markdown",
   "id": "81a176d2",
   "metadata": {},
   "source": [
    "With more time and compute resources, I would have liked to do a more thorough hyperparameter search, including many of the other optimizer and scheduler hyperparameters. Maybe however, the amount of data is too small even for finetuning on such a large model, and I would also have liked to try the smallest GraphGPS. "
   ]
  },
  {
   "cell_type": "markdown",
   "id": "aae51673",
   "metadata": {},
   "source": [
    "One final note on a small code change I made: when using the `random` option for `data.split_mode` in the configuration file, I noticed the [original code](https://github.com/tz545/EGFR-detection-GraphGPS/blob/main/graphgps/loader/split_generator.py) used a comparison to an integer `sum(split_ratios) != 1`, which threw an error even when the splits sum to 1. I replaced this expression with `abs(1-sum(split_ratios)) > 1E-5` to avoid the error. "
   ]
  },
  {
   "cell_type": "code",
   "execution_count": null,
   "id": "2f40d77e",
   "metadata": {},
   "outputs": [],
   "source": []
  }
 ],
 "metadata": {
  "kernelspec": {
   "display_name": "Python 3 (ipykernel)",
   "language": "python",
   "name": "python3"
  },
  "language_info": {
   "codemirror_mode": {
    "name": "ipython",
    "version": 3
   },
   "file_extension": ".py",
   "mimetype": "text/x-python",
   "name": "python",
   "nbconvert_exporter": "python",
   "pygments_lexer": "ipython3",
   "version": "3.8.10"
  }
 },
 "nbformat": 4,
 "nbformat_minor": 5
}
