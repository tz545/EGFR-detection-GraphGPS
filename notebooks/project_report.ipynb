{
 "cells": [
  {
   "cell_type": "code",
   "execution_count": 1,
   "id": "50278b24",
   "metadata": {},
   "outputs": [],
   "source": [
    "import pandas as pd\n",
    "import numpy as np \n",
    "import matplotlib.pyplot as plt"
   ]
  },
  {
   "cell_type": "markdown",
   "id": "98144016",
   "metadata": {},
   "source": [
    "# Data exploration"
   ]
  },
  {
   "cell_type": "code",
   "execution_count": 3,
   "id": "a4ec8851",
   "metadata": {},
   "outputs": [
    {
     "data": {
      "text/html": [
       "<div>\n",
       "<style scoped>\n",
       "    .dataframe tbody tr th:only-of-type {\n",
       "        vertical-align: middle;\n",
       "    }\n",
       "\n",
       "    .dataframe tbody tr th {\n",
       "        vertical-align: top;\n",
       "    }\n",
       "\n",
       "    .dataframe thead th {\n",
       "        text-align: right;\n",
       "    }\n",
       "</style>\n",
       "<table border=\"1\" class=\"dataframe\">\n",
       "  <thead>\n",
       "    <tr style=\"text-align: right;\">\n",
       "      <th></th>\n",
       "      <th>molecule_chembl_id</th>\n",
       "      <th>IC50</th>\n",
       "      <th>units</th>\n",
       "      <th>smiles</th>\n",
       "      <th>pIC50</th>\n",
       "      <th>molecular_weight</th>\n",
       "      <th>n_hba</th>\n",
       "      <th>n_hbd</th>\n",
       "      <th>logp</th>\n",
       "      <th>ro5_fulfilled</th>\n",
       "    </tr>\n",
       "  </thead>\n",
       "  <tbody>\n",
       "    <tr>\n",
       "      <th>0</th>\n",
       "      <td>CHEMBL63786</td>\n",
       "      <td>0.003</td>\n",
       "      <td>nM</td>\n",
       "      <td>Brc1cccc(Nc2ncnc3cc4ccccc4cc23)c1</td>\n",
       "      <td>11.522879</td>\n",
       "      <td>349.021459</td>\n",
       "      <td>3</td>\n",
       "      <td>1</td>\n",
       "      <td>5.2891</td>\n",
       "      <td>True</td>\n",
       "    </tr>\n",
       "    <tr>\n",
       "      <th>1</th>\n",
       "      <td>CHEMBL35820</td>\n",
       "      <td>0.006</td>\n",
       "      <td>nM</td>\n",
       "      <td>CCOc1cc2ncnc(Nc3cccc(Br)c3)c2cc1OCC</td>\n",
       "      <td>11.221849</td>\n",
       "      <td>387.058239</td>\n",
       "      <td>5</td>\n",
       "      <td>1</td>\n",
       "      <td>4.9333</td>\n",
       "      <td>True</td>\n",
       "    </tr>\n",
       "    <tr>\n",
       "      <th>2</th>\n",
       "      <td>CHEMBL53711</td>\n",
       "      <td>0.006</td>\n",
       "      <td>nM</td>\n",
       "      <td>CN(C)c1cc2c(Nc3cccc(Br)c3)ncnc2cn1</td>\n",
       "      <td>11.221849</td>\n",
       "      <td>343.043258</td>\n",
       "      <td>5</td>\n",
       "      <td>1</td>\n",
       "      <td>3.5969</td>\n",
       "      <td>True</td>\n",
       "    </tr>\n",
       "    <tr>\n",
       "      <th>3</th>\n",
       "      <td>CHEMBL66031</td>\n",
       "      <td>0.008</td>\n",
       "      <td>nM</td>\n",
       "      <td>Brc1cccc(Nc2ncnc3cc4[nH]cnc4cc23)c1</td>\n",
       "      <td>11.096910</td>\n",
       "      <td>339.011957</td>\n",
       "      <td>4</td>\n",
       "      <td>2</td>\n",
       "      <td>4.0122</td>\n",
       "      <td>True</td>\n",
       "    </tr>\n",
       "    <tr>\n",
       "      <th>4</th>\n",
       "      <td>CHEMBL53753</td>\n",
       "      <td>0.008</td>\n",
       "      <td>nM</td>\n",
       "      <td>CNc1cc2c(Nc3cccc(Br)c3)ncnc2cn1</td>\n",
       "      <td>11.096910</td>\n",
       "      <td>329.027607</td>\n",
       "      <td>5</td>\n",
       "      <td>2</td>\n",
       "      <td>3.5726</td>\n",
       "      <td>True</td>\n",
       "    </tr>\n",
       "  </tbody>\n",
       "</table>\n",
       "</div>"
      ],
      "text/plain": [
       "  molecule_chembl_id   IC50 units                               smiles  \\\n",
       "0        CHEMBL63786  0.003    nM    Brc1cccc(Nc2ncnc3cc4ccccc4cc23)c1   \n",
       "1        CHEMBL35820  0.006    nM  CCOc1cc2ncnc(Nc3cccc(Br)c3)c2cc1OCC   \n",
       "2        CHEMBL53711  0.006    nM   CN(C)c1cc2c(Nc3cccc(Br)c3)ncnc2cn1   \n",
       "3        CHEMBL66031  0.008    nM  Brc1cccc(Nc2ncnc3cc4[nH]cnc4cc23)c1   \n",
       "4        CHEMBL53753  0.008    nM      CNc1cc2c(Nc3cccc(Br)c3)ncnc2cn1   \n",
       "\n",
       "       pIC50  molecular_weight  n_hba  n_hbd    logp  ro5_fulfilled  \n",
       "0  11.522879        349.021459      3      1  5.2891           True  \n",
       "1  11.221849        387.058239      5      1  4.9333           True  \n",
       "2  11.221849        343.043258      5      1  3.5969           True  \n",
       "3  11.096910        339.011957      4      2  4.0122           True  \n",
       "4  11.096910        329.027607      5      2  3.5726           True  "
      ]
     },
     "execution_count": 3,
     "metadata": {},
     "output_type": "execute_result"
    }
   ],
   "source": [
    "data = pd.read_csv(\"../datasets/EGFR/raw/EGFR_compounds_lipinsky.csv\", index_col=0)\n",
    "data.head()"
   ]
  },
  {
   "cell_type": "markdown",
   "id": "4169f679",
   "metadata": {},
   "source": [
    "First I want to know which columns contain relevant information and what they represent. On first glance it seems like the `units` and `ro5_fulfulled` columns contain the same values for all rows. If this is true, we can ignore these columns. "
   ]
  },
  {
   "cell_type": "code",
   "execution_count": 4,
   "id": "d35dc920",
   "metadata": {},
   "outputs": [
    {
     "name": "stdout",
     "output_type": "stream",
     "text": [
      "['nM']\n",
      "[ True]\n"
     ]
    }
   ],
   "source": [
    "print(data[\"units\"].unique())\n",
    "print(data[\"ro5_fulfilled\"].unique())"
   ]
  },
  {
   "cell_type": "markdown",
   "id": "46e48b9b",
   "metadata": {},
   "source": [
    "`molecule_chembl_id`: the identifier of the molecule in the ChEMBL dataset (bioactive molecules with drug-like properties). "
   ]
  },
  {
   "cell_type": "markdown",
   "id": "475c1ba2",
   "metadata": {},
   "source": [
    "`IC50`: the amount of substance needed to inhibit a process (*in vitro*) by 50%  \n",
    "`pIC50`: -log10(IC50)"
   ]
  },
  {
   "cell_type": "markdown",
   "id": "125e2c2d",
   "metadata": {},
   "source": [
    "`smiles`: [SMILES strings](https://docs.eyesopen.com/toolkits/python/glossary.html#term-SMARTS) represent a molecule by describing its molecular graph. This can be used to build a molecule graph (e.g. for PyTorch Geometric). Alternatively, 2D molecular descriptors (e.g. structural keys) can be used. Strutural keys such as MACCS keys are binary bit strings where each bit represents a pre-defined feature (e.g. substructure/fragment). These keys can compared in a similar manner as embeddings, and similarity between two molecules can be computed using the Hamming distance. "
   ]
  },
  {
   "cell_type": "markdown",
   "id": "222684af",
   "metadata": {},
   "source": [
    "The following features affect the absorption and permeation properties of the molecule, which are important for evaluating the molecule as a drug candidate, but are unlikely to affect the potency value. I would include them in a more general model where the aim is to predict the general potential of the molecule as a drug, but not in the current task, where I am only interested in predicting pIC50. "
   ]
  },
  {
   "cell_type": "markdown",
   "id": "51490d81",
   "metadata": {},
   "source": [
    "`molecular weight`: The [Lipinsky rule of 5](https://www.sciencedirect.com/science/article/pii/S0169409X96004231) states that poor absorption or permeation is more likely when the molecular weight is over 500"
   ]
  },
  {
   "cell_type": "markdown",
   "id": "5442b1a1",
   "metadata": {},
   "source": [
    "`n_hba`: number of H-bond acceptors. The Rule of 5 applies when there are more than 10 H-bond acceptors"
   ]
  },
  {
   "cell_type": "markdown",
   "id": "6f3dc2a0",
   "metadata": {},
   "source": [
    "`n_hbd`: number of H-bond donors. The Rule of 5 applies when there are more than 5 H-bond donors. "
   ]
  },
  {
   "cell_type": "markdown",
   "id": "e73e6df3",
   "metadata": {},
   "source": [
    "`logp`: The Rule of 5 applies when LogP is over 5. "
   ]
  },
  {
   "cell_type": "markdown",
   "id": "7944ba71",
   "metadata": {},
   "source": [
    "## Data distribution"
   ]
  },
  {
   "cell_type": "code",
   "execution_count": 6,
   "id": "edd1f31d",
   "metadata": {},
   "outputs": [
    {
     "data": {
      "image/png": "[encoded data removed]",
      "text/plain": [
       "<Figure size 640x480 with 1 Axes>"
      ]
     },
     "metadata": {},
     "output_type": "display_data"
    }
   ],
   "source": [
    "pIC50 = data[\"pIC50\"].to_numpy()\n",
    "plt.hist(pIC50, bins=50, density=True)\n",
    "plt.xlabel(\"pIC50 value\")\n",
    "plt.ylabel(\"Relative frequency\")\n",
    "plt.show()"
   ]
  },
  {
   "cell_type": "markdown",
   "id": "85c4596d",
   "metadata": {},
   "source": [
    "The dataset is relatively evenly distributed, the values we are interested in, pIC50 > 8 are not in the extreme tail end of the distribution, and there are no gaps in the data. "
   ]
  },
  {
   "cell_type": "markdown",
   "id": "d46f7580",
   "metadata": {},
   "source": [
    "# A baseline for the regression task\n",
    "\n",
    "Even though we are asked to predict whether compounds have a pIC50 > 8, I believe framing this as a regression task which outputs the pIC50 value is more appropriate beceause:\n",
    "\n",
    "1. pIC50 is a continous variable\n",
    "2. I cannot think of a reason which would make compounds with pIC50 slighly higher than 8 *categorically different* from compounds with pIC50 slightly lower than 8. Therefore I don't think it makes sense to build a classification model which would spend more resources on learning the slight differences between molecules with pIC50 $\\approx 8$. However, if this assumption is wrong, and there is a reason for an absolute cut-off at pIC50 = 8, a classifcation model would be more appropriate.  \n",
    "\n",
    "I first use a random forest regressor to establish a baseline for the problem, with which I will compare the results of my main approach (finetuning using a pre-trained [GraphGPS](https://arxiv.org/abs/2205.12454) model). "
   ]
  },
  {
   "cell_type": "markdown",
   "id": "6c4a3bc2",
   "metadata": {},
   "source": [
    "For this baseline model, I will encode the SMILES strings as MACCS structural keys, as in the [cheminfomatics tutorial](https://projects.volkamerlab.org/teachopencadd/talktorials/T007_compound_activity_machine_learning.html). In this section, the SMILES strings are converted, each bit of the MACCS key is treated as an independent variable, and the test-train split is done. "
   ]
  },
  {
   "cell_type": "code",
   "execution_count": 28,
   "id": "7093424b",
   "metadata": {},
   "outputs": [],
   "source": [
    "from sklearn.ensemble import RandomForestRegressor\n",
    "from sklearn.model_selection import train_test_split, cross_val_score, KFold, RandomizedSearchCV\n",
    "from rdkit import Chem\n",
    "from rdkit.Chem import MACCSkeys"
   ]
  },
  {
   "cell_type": "code",
   "execution_count": 16,
   "id": "a67cc683",
   "metadata": {},
   "outputs": [],
   "source": [
    "def smiles_to_maccs(smiles):\n",
    "    mol = Chem.MolFromSmiles(smiles)\n",
    "    return list(MACCSkeys.GenMACCSKeys(mol))"
   ]
  },
  {
   "cell_type": "code",
   "execution_count": 18,
   "id": "715d925e",
   "metadata": {},
   "outputs": [],
   "source": [
    "data[\"maccs\"] = data[\"smiles\"].apply(smiles_to_maccs)"
   ]
  },
  {
   "cell_type": "code",
   "execution_count": 22,
   "id": "31b78c6a",
   "metadata": {},
   "outputs": [
    {
     "data": {
      "text/html": [
       "<div>\n",
       "<style scoped>\n",
       "    .dataframe tbody tr th:only-of-type {\n",
       "        vertical-align: middle;\n",
       "    }\n",
       "\n",
       "    .dataframe tbody tr th {\n",
       "        vertical-align: top;\n",
       "    }\n",
       "\n",
       "    .dataframe thead th {\n",
       "        text-align: right;\n",
       "    }\n",
       "</style>\n",
       "<table border=\"1\" class=\"dataframe\">\n",
       "  <thead>\n",
       "    <tr style=\"text-align: right;\">\n",
       "      <th></th>\n",
       "      <th>maccs_0</th>\n",
       "      <th>maccs_1</th>\n",
       "      <th>maccs_2</th>\n",
       "      <th>maccs_3</th>\n",
       "      <th>maccs_4</th>\n",
       "      <th>maccs_5</th>\n",
       "      <th>maccs_6</th>\n",
       "      <th>maccs_7</th>\n",
       "      <th>maccs_8</th>\n",
       "      <th>maccs_9</th>\n",
       "      <th>...</th>\n",
       "      <th>maccs_157</th>\n",
       "      <th>maccs_158</th>\n",
       "      <th>maccs_159</th>\n",
       "      <th>maccs_160</th>\n",
       "      <th>maccs_161</th>\n",
       "      <th>maccs_162</th>\n",
       "      <th>maccs_163</th>\n",
       "      <th>maccs_164</th>\n",
       "      <th>maccs_165</th>\n",
       "      <th>maccs_166</th>\n",
       "    </tr>\n",
       "  </thead>\n",
       "  <tbody>\n",
       "    <tr>\n",
       "      <th>0</th>\n",
       "      <td>0</td>\n",
       "      <td>0</td>\n",
       "      <td>0</td>\n",
       "      <td>0</td>\n",
       "      <td>0</td>\n",
       "      <td>0</td>\n",
       "      <td>0</td>\n",
       "      <td>0</td>\n",
       "      <td>0</td>\n",
       "      <td>0</td>\n",
       "      <td>...</td>\n",
       "      <td>0</td>\n",
       "      <td>1</td>\n",
       "      <td>0</td>\n",
       "      <td>0</td>\n",
       "      <td>1</td>\n",
       "      <td>1</td>\n",
       "      <td>1</td>\n",
       "      <td>0</td>\n",
       "      <td>1</td>\n",
       "      <td>0</td>\n",
       "    </tr>\n",
       "    <tr>\n",
       "      <th>1</th>\n",
       "      <td>0</td>\n",
       "      <td>0</td>\n",
       "      <td>0</td>\n",
       "      <td>0</td>\n",
       "      <td>0</td>\n",
       "      <td>0</td>\n",
       "      <td>0</td>\n",
       "      <td>0</td>\n",
       "      <td>0</td>\n",
       "      <td>0</td>\n",
       "      <td>...</td>\n",
       "      <td>1</td>\n",
       "      <td>1</td>\n",
       "      <td>1</td>\n",
       "      <td>1</td>\n",
       "      <td>1</td>\n",
       "      <td>1</td>\n",
       "      <td>1</td>\n",
       "      <td>1</td>\n",
       "      <td>1</td>\n",
       "      <td>0</td>\n",
       "    </tr>\n",
       "    <tr>\n",
       "      <th>2</th>\n",
       "      <td>0</td>\n",
       "      <td>0</td>\n",
       "      <td>0</td>\n",
       "      <td>0</td>\n",
       "      <td>0</td>\n",
       "      <td>0</td>\n",
       "      <td>0</td>\n",
       "      <td>0</td>\n",
       "      <td>0</td>\n",
       "      <td>0</td>\n",
       "      <td>...</td>\n",
       "      <td>0</td>\n",
       "      <td>1</td>\n",
       "      <td>0</td>\n",
       "      <td>1</td>\n",
       "      <td>1</td>\n",
       "      <td>1</td>\n",
       "      <td>1</td>\n",
       "      <td>0</td>\n",
       "      <td>1</td>\n",
       "      <td>0</td>\n",
       "    </tr>\n",
       "    <tr>\n",
       "      <th>3</th>\n",
       "      <td>0</td>\n",
       "      <td>0</td>\n",
       "      <td>0</td>\n",
       "      <td>0</td>\n",
       "      <td>0</td>\n",
       "      <td>0</td>\n",
       "      <td>0</td>\n",
       "      <td>0</td>\n",
       "      <td>0</td>\n",
       "      <td>0</td>\n",
       "      <td>...</td>\n",
       "      <td>0</td>\n",
       "      <td>1</td>\n",
       "      <td>0</td>\n",
       "      <td>0</td>\n",
       "      <td>1</td>\n",
       "      <td>1</td>\n",
       "      <td>1</td>\n",
       "      <td>0</td>\n",
       "      <td>1</td>\n",
       "      <td>0</td>\n",
       "    </tr>\n",
       "    <tr>\n",
       "      <th>4</th>\n",
       "      <td>0</td>\n",
       "      <td>0</td>\n",
       "      <td>0</td>\n",
       "      <td>0</td>\n",
       "      <td>0</td>\n",
       "      <td>0</td>\n",
       "      <td>0</td>\n",
       "      <td>0</td>\n",
       "      <td>0</td>\n",
       "      <td>0</td>\n",
       "      <td>...</td>\n",
       "      <td>0</td>\n",
       "      <td>1</td>\n",
       "      <td>0</td>\n",
       "      <td>1</td>\n",
       "      <td>1</td>\n",
       "      <td>1</td>\n",
       "      <td>1</td>\n",
       "      <td>0</td>\n",
       "      <td>1</td>\n",
       "      <td>0</td>\n",
       "    </tr>\n",
       "  </tbody>\n",
       "</table>\n",
       "<p>5 rows × 167 columns</p>\n",
       "</div>"
      ],
      "text/plain": [
       "   maccs_0  maccs_1  maccs_2  maccs_3  maccs_4  maccs_5  maccs_6  maccs_7  \\\n",
       "0        0        0        0        0        0        0        0        0   \n",
       "1        0        0        0        0        0        0        0        0   \n",
       "2        0        0        0        0        0        0        0        0   \n",
       "3        0        0        0        0        0        0        0        0   \n",
       "4        0        0        0        0        0        0        0        0   \n",
       "\n",
       "   maccs_8  maccs_9  ...  maccs_157  maccs_158  maccs_159  maccs_160  \\\n",
       "0        0        0  ...          0          1          0          0   \n",
       "1        0        0  ...          1          1          1          1   \n",
       "2        0        0  ...          0          1          0          1   \n",
       "3        0        0  ...          0          1          0          0   \n",
       "4        0        0  ...          0          1          0          1   \n",
       "\n",
       "   maccs_161  maccs_162  maccs_163  maccs_164  maccs_165  maccs_166  \n",
       "0          1          1          1          0          1          0  \n",
       "1          1          1          1          1          1          0  \n",
       "2          1          1          1          0          1          0  \n",
       "3          1          1          1          0          1          0  \n",
       "4          1          1          1          0          1          0  \n",
       "\n",
       "[5 rows x 167 columns]"
      ]
     },
     "execution_count": 22,
     "metadata": {},
     "output_type": "execute_result"
    }
   ],
   "source": [
    "X = pd.DataFrame(data[\"maccs\"].to_list(), columns=[\"maccs_{0}\".format(i) for i in range(167)])\n",
    "X.head()"
   ]
  },
  {
   "cell_type": "code",
   "execution_count": 26,
   "id": "f7dfc34c",
   "metadata": {},
   "outputs": [],
   "source": [
    "y = data[\"pIC50\"]"
   ]
  },
  {
   "cell_type": "code",
   "execution_count": 27,
   "id": "89ebca16",
   "metadata": {},
   "outputs": [],
   "source": [
    "X_train, X_test, y_train, y_test = train_test_split(X, y, test_size=0.2, random_state=42)"
   ]
  },
  {
   "cell_type": "markdown",
   "id": "a9246042",
   "metadata": {},
   "source": [
    "Next I set up the model and performed a randomized hyperparameter search using cross validation"
   ]
  },
  {
   "cell_type": "code",
   "execution_count": 29,
   "id": "0a45cadd",
   "metadata": {},
   "outputs": [
    {
     "data": {
      "text/html": [
       "<style>#sk-container-id-1 {color: black;background-color: white;}#sk-container-id-1 pre{padding: 0;}#sk-container-id-1 div.sk-toggleable {background-color: white;}#sk-container-id-1 label.sk-toggleable__label {cursor: pointer;display: block;width: 100%;margin-bottom: 0;padding: 0.3em;box-sizing: border-box;text-align: center;}#sk-container-id-1 label.sk-toggleable__label-arrow:before {content: \"▸\";float: left;margin-right: 0.25em;color: #696969;}#sk-container-id-1 label.sk-toggleable__label-arrow:hover:before {color: black;}#sk-container-id-1 div.sk-estimator:hover label.sk-toggleable__label-arrow:before {color: black;}#sk-container-id-1 div.sk-toggleable__content {max-height: 0;max-width: 0;overflow: hidden;text-align: left;background-color: #f0f8ff;}#sk-container-id-1 div.sk-toggleable__content pre {margin: 0.2em;color: black;border-radius: 0.25em;background-color: #f0f8ff;}#sk-container-id-1 input.sk-toggleable__control:checked~div.sk-toggleable__content {max-height: 200px;max-width: 100%;overflow: auto;}#sk-container-id-1 input.sk-toggleable__control:checked~label.sk-toggleable__label-arrow:before {content: \"▾\";}#sk-container-id-1 div.sk-estimator input.sk-toggleable__control:checked~label.sk-toggleable__label {background-color: #d4ebff;}#sk-container-id-1 div.sk-label input.sk-toggleable__control:checked~label.sk-toggleable__label {background-color: #d4ebff;}#sk-container-id-1 input.sk-hidden--visually {border: 0;clip: rect(1px 1px 1px 1px);clip: rect(1px, 1px, 1px, 1px);height: 1px;margin: -1px;overflow: hidden;padding: 0;position: absolute;width: 1px;}#sk-container-id-1 div.sk-estimator {font-family: monospace;background-color: #f0f8ff;border: 1px dotted black;border-radius: 0.25em;box-sizing: border-box;margin-bottom: 0.5em;}#sk-container-id-1 div.sk-estimator:hover {background-color: #d4ebff;}#sk-container-id-1 div.sk-parallel-item::after {content: \"\";width: 100%;border-bottom: 1px solid gray;flex-grow: 1;}#sk-container-id-1 div.sk-label:hover label.sk-toggleable__label {background-color: #d4ebff;}#sk-container-id-1 div.sk-serial::before {content: \"\";position: absolute;border-left: 1px solid gray;box-sizing: border-box;top: 0;bottom: 0;left: 50%;z-index: 0;}#sk-container-id-1 div.sk-serial {display: flex;flex-direction: column;align-items: center;background-color: white;padding-right: 0.2em;padding-left: 0.2em;position: relative;}#sk-container-id-1 div.sk-item {position: relative;z-index: 1;}#sk-container-id-1 div.sk-parallel {display: flex;align-items: stretch;justify-content: center;background-color: white;position: relative;}#sk-container-id-1 div.sk-item::before, #sk-container-id-1 div.sk-parallel-item::before {content: \"\";position: absolute;border-left: 1px solid gray;box-sizing: border-box;top: 0;bottom: 0;left: 50%;z-index: -1;}#sk-container-id-1 div.sk-parallel-item {display: flex;flex-direction: column;z-index: 1;position: relative;background-color: white;}#sk-container-id-1 div.sk-parallel-item:first-child::after {align-self: flex-end;width: 50%;}#sk-container-id-1 div.sk-parallel-item:last-child::after {align-self: flex-start;width: 50%;}#sk-container-id-1 div.sk-parallel-item:only-child::after {width: 0;}#sk-container-id-1 div.sk-dashed-wrapped {border: 1px dashed gray;margin: 0 0.4em 0.5em 0.4em;box-sizing: border-box;padding-bottom: 0.4em;background-color: white;}#sk-container-id-1 div.sk-label label {font-family: monospace;font-weight: bold;display: inline-block;line-height: 1.2em;}#sk-container-id-1 div.sk-label-container {text-align: center;}#sk-container-id-1 div.sk-container {/* jupyter's `normalize.less` sets `[hidden] { display: none; }` but bootstrap.min.css set `[hidden] { display: none !important; }` so we also need the `!important` here to be able to override the default hidden behavior on the sphinx rendered scikit-learn.org. See: https://github.com/scikit-learn/scikit-learn/issues/21755 */display: inline-block !important;position: relative;}#sk-container-id-1 div.sk-text-repr-fallback {display: none;}</style><div id=\"sk-container-id-1\" class=\"sk-top-container\"><div class=\"sk-text-repr-fallback\"><pre>RandomizedSearchCV(estimator=RandomForestRegressor(), n_iter=20,\n",
       "                   param_distributions={&#x27;max_depth&#x27;: [2, 3, None],\n",
       "                                        &#x27;max_features&#x27;: [&#x27;sqrt&#x27;, None],\n",
       "                                        &#x27;max_leaf_nodes&#x27;: [10, 20, None],\n",
       "                                        &#x27;min_samples_leaf&#x27;: [1, 2, 5],\n",
       "                                        &#x27;min_samples_split&#x27;: [2, 10],\n",
       "                                        &#x27;n_estimators&#x27;: [100, 200]})</pre><b>In a Jupyter environment, please rerun this cell to show the HTML representation or trust the notebook. <br />On GitHub, the HTML representation is unable to render, please try loading this page with nbviewer.org.</b></div><div class=\"sk-container\" hidden><div class=\"sk-item sk-dashed-wrapped\"><div class=\"sk-label-container\"><div class=\"sk-label sk-toggleable\"><input class=\"sk-toggleable__control sk-hidden--visually\" id=\"sk-estimator-id-1\" type=\"checkbox\" ><label for=\"sk-estimator-id-1\" class=\"sk-toggleable__label sk-toggleable__label-arrow\">RandomizedSearchCV</label><div class=\"sk-toggleable__content\"><pre>RandomizedSearchCV(estimator=RandomForestRegressor(), n_iter=20,\n",
       "                   param_distributions={&#x27;max_depth&#x27;: [2, 3, None],\n",
       "                                        &#x27;max_features&#x27;: [&#x27;sqrt&#x27;, None],\n",
       "                                        &#x27;max_leaf_nodes&#x27;: [10, 20, None],\n",
       "                                        &#x27;min_samples_leaf&#x27;: [1, 2, 5],\n",
       "                                        &#x27;min_samples_split&#x27;: [2, 10],\n",
       "                                        &#x27;n_estimators&#x27;: [100, 200]})</pre></div></div></div><div class=\"sk-parallel\"><div class=\"sk-parallel-item\"><div class=\"sk-item\"><div class=\"sk-label-container\"><div class=\"sk-label sk-toggleable\"><input class=\"sk-toggleable__control sk-hidden--visually\" id=\"sk-estimator-id-2\" type=\"checkbox\" ><label for=\"sk-estimator-id-2\" class=\"sk-toggleable__label sk-toggleable__label-arrow\">estimator: RandomForestRegressor</label><div class=\"sk-toggleable__content\"><pre>RandomForestRegressor()</pre></div></div></div><div class=\"sk-serial\"><div class=\"sk-item\"><div class=\"sk-estimator sk-toggleable\"><input class=\"sk-toggleable__control sk-hidden--visually\" id=\"sk-estimator-id-3\" type=\"checkbox\" ><label for=\"sk-estimator-id-3\" class=\"sk-toggleable__label sk-toggleable__label-arrow\">RandomForestRegressor</label><div class=\"sk-toggleable__content\"><pre>RandomForestRegressor()</pre></div></div></div></div></div></div></div></div></div></div>"
      ],
      "text/plain": [
       "RandomizedSearchCV(estimator=RandomForestRegressor(), n_iter=20,\n",
       "                   param_distributions={'max_depth': [2, 3, None],\n",
       "                                        'max_features': ['sqrt', None],\n",
       "                                        'max_leaf_nodes': [10, 20, None],\n",
       "                                        'min_samples_leaf': [1, 2, 5],\n",
       "                                        'min_samples_split': [2, 10],\n",
       "                                        'n_estimators': [100, 200]})"
      ]
     },
     "execution_count": 29,
     "metadata": {},
     "output_type": "execute_result"
    }
   ],
   "source": [
    "model = RandomForestRegressor(n_estimators=100)\n",
    "params = {\n",
    "    \"max_depth\": [2, 3, None], # default None\n",
    "    \"max_leaf_nodes\": [10, 20, None], # default None\n",
    "    \"min_samples_split\": [2, 10], # default 2\n",
    "    \"max_features\": [\"sqrt\", None], # default None=n_features\n",
    "    \"min_samples_leaf\":[1, 2, 5], # default is 1\n",
    "    \"n_estimators\": [100, 200], # default 100\n",
    "}\n",
    "\n",
    "clf = RandomizedSearchCV(model, params, n_iter=20)\n",
    "clf.fit(X_train,y_train)"
   ]
  },
  {
   "cell_type": "code",
   "execution_count": 30,
   "id": "61d5b6a1",
   "metadata": {},
   "outputs": [
    {
     "data": {
      "text/html": [
       "<div>\n",
       "<style scoped>\n",
       "    .dataframe tbody tr th:only-of-type {\n",
       "        vertical-align: middle;\n",
       "    }\n",
       "\n",
       "    .dataframe tbody tr th {\n",
       "        vertical-align: top;\n",
       "    }\n",
       "\n",
       "    .dataframe thead th {\n",
       "        text-align: right;\n",
       "    }\n",
       "</style>\n",
       "<table border=\"1\" class=\"dataframe\">\n",
       "  <thead>\n",
       "    <tr style=\"text-align: right;\">\n",
       "      <th></th>\n",
       "      <th>mean_fit_time</th>\n",
       "      <th>std_fit_time</th>\n",
       "      <th>mean_score_time</th>\n",
       "      <th>std_score_time</th>\n",
       "      <th>param_n_estimators</th>\n",
       "      <th>param_min_samples_split</th>\n",
       "      <th>param_min_samples_leaf</th>\n",
       "      <th>param_max_leaf_nodes</th>\n",
       "      <th>param_max_features</th>\n",
       "      <th>param_max_depth</th>\n",
       "      <th>params</th>\n",
       "      <th>split0_test_score</th>\n",
       "      <th>split1_test_score</th>\n",
       "      <th>split2_test_score</th>\n",
       "      <th>split3_test_score</th>\n",
       "      <th>split4_test_score</th>\n",
       "      <th>mean_test_score</th>\n",
       "      <th>std_test_score</th>\n",
       "      <th>rank_test_score</th>\n",
       "    </tr>\n",
       "  </thead>\n",
       "  <tbody>\n",
       "    <tr>\n",
       "      <th>9</th>\n",
       "      <td>1.381701</td>\n",
       "      <td>0.008388</td>\n",
       "      <td>0.010020</td>\n",
       "      <td>0.000104</td>\n",
       "      <td>100</td>\n",
       "      <td>10</td>\n",
       "      <td>1</td>\n",
       "      <td>None</td>\n",
       "      <td>None</td>\n",
       "      <td>None</td>\n",
       "      <td>{'n_estimators': 100, 'min_samples_split': 10,...</td>\n",
       "      <td>0.581636</td>\n",
       "      <td>0.623563</td>\n",
       "      <td>0.587659</td>\n",
       "      <td>0.605771</td>\n",
       "      <td>0.592439</td>\n",
       "      <td>0.598214</td>\n",
       "      <td>0.014962</td>\n",
       "      <td>1</td>\n",
       "    </tr>\n",
       "    <tr>\n",
       "      <th>4</th>\n",
       "      <td>1.507782</td>\n",
       "      <td>0.015440</td>\n",
       "      <td>0.009581</td>\n",
       "      <td>0.000140</td>\n",
       "      <td>200</td>\n",
       "      <td>10</td>\n",
       "      <td>2</td>\n",
       "      <td>20</td>\n",
       "      <td>None</td>\n",
       "      <td>None</td>\n",
       "      <td>{'n_estimators': 200, 'min_samples_split': 10,...</td>\n",
       "      <td>0.425751</td>\n",
       "      <td>0.457969</td>\n",
       "      <td>0.448446</td>\n",
       "      <td>0.461214</td>\n",
       "      <td>0.452223</td>\n",
       "      <td>0.449120</td>\n",
       "      <td>0.012496</td>\n",
       "      <td>2</td>\n",
       "    </tr>\n",
       "    <tr>\n",
       "      <th>11</th>\n",
       "      <td>0.769769</td>\n",
       "      <td>0.010891</td>\n",
       "      <td>0.005546</td>\n",
       "      <td>0.000093</td>\n",
       "      <td>100</td>\n",
       "      <td>2</td>\n",
       "      <td>1</td>\n",
       "      <td>20</td>\n",
       "      <td>None</td>\n",
       "      <td>None</td>\n",
       "      <td>{'n_estimators': 100, 'min_samples_split': 2, ...</td>\n",
       "      <td>0.423505</td>\n",
       "      <td>0.454352</td>\n",
       "      <td>0.453113</td>\n",
       "      <td>0.458713</td>\n",
       "      <td>0.453891</td>\n",
       "      <td>0.448715</td>\n",
       "      <td>0.012755</td>\n",
       "      <td>3</td>\n",
       "    </tr>\n",
       "    <tr>\n",
       "      <th>18</th>\n",
       "      <td>0.201496</td>\n",
       "      <td>0.001187</td>\n",
       "      <td>0.009995</td>\n",
       "      <td>0.000049</td>\n",
       "      <td>200</td>\n",
       "      <td>10</td>\n",
       "      <td>5</td>\n",
       "      <td>20</td>\n",
       "      <td>sqrt</td>\n",
       "      <td>None</td>\n",
       "      <td>{'n_estimators': 200, 'min_samples_split': 10,...</td>\n",
       "      <td>0.385465</td>\n",
       "      <td>0.406043</td>\n",
       "      <td>0.383635</td>\n",
       "      <td>0.386762</td>\n",
       "      <td>0.378449</td>\n",
       "      <td>0.388071</td>\n",
       "      <td>0.009421</td>\n",
       "      <td>4</td>\n",
       "    </tr>\n",
       "    <tr>\n",
       "      <th>5</th>\n",
       "      <td>0.101009</td>\n",
       "      <td>0.000373</td>\n",
       "      <td>0.005517</td>\n",
       "      <td>0.000030</td>\n",
       "      <td>100</td>\n",
       "      <td>10</td>\n",
       "      <td>2</td>\n",
       "      <td>20</td>\n",
       "      <td>sqrt</td>\n",
       "      <td>None</td>\n",
       "      <td>{'n_estimators': 100, 'min_samples_split': 10,...</td>\n",
       "      <td>0.382078</td>\n",
       "      <td>0.410589</td>\n",
       "      <td>0.377863</td>\n",
       "      <td>0.381554</td>\n",
       "      <td>0.376241</td>\n",
       "      <td>0.385665</td>\n",
       "      <td>0.012655</td>\n",
       "      <td>5</td>\n",
       "    </tr>\n",
       "  </tbody>\n",
       "</table>\n",
       "</div>"
      ],
      "text/plain": [
       "    mean_fit_time  std_fit_time  mean_score_time  std_score_time  \\\n",
       "9        1.381701      0.008388         0.010020        0.000104   \n",
       "4        1.507782      0.015440         0.009581        0.000140   \n",
       "11       0.769769      0.010891         0.005546        0.000093   \n",
       "18       0.201496      0.001187         0.009995        0.000049   \n",
       "5        0.101009      0.000373         0.005517        0.000030   \n",
       "\n",
       "   param_n_estimators param_min_samples_split param_min_samples_leaf  \\\n",
       "9                 100                      10                      1   \n",
       "4                 200                      10                      2   \n",
       "11                100                       2                      1   \n",
       "18                200                      10                      5   \n",
       "5                 100                      10                      2   \n",
       "\n",
       "   param_max_leaf_nodes param_max_features param_max_depth  \\\n",
       "9                  None               None            None   \n",
       "4                    20               None            None   \n",
       "11                   20               None            None   \n",
       "18                   20               sqrt            None   \n",
       "5                    20               sqrt            None   \n",
       "\n",
       "                                               params  split0_test_score  \\\n",
       "9   {'n_estimators': 100, 'min_samples_split': 10,...           0.581636   \n",
       "4   {'n_estimators': 200, 'min_samples_split': 10,...           0.425751   \n",
       "11  {'n_estimators': 100, 'min_samples_split': 2, ...           0.423505   \n",
       "18  {'n_estimators': 200, 'min_samples_split': 10,...           0.385465   \n",
       "5   {'n_estimators': 100, 'min_samples_split': 10,...           0.382078   \n",
       "\n",
       "    split1_test_score  split2_test_score  split3_test_score  \\\n",
       "9            0.623563           0.587659           0.605771   \n",
       "4            0.457969           0.448446           0.461214   \n",
       "11           0.454352           0.453113           0.458713   \n",
       "18           0.406043           0.383635           0.386762   \n",
       "5            0.410589           0.377863           0.381554   \n",
       "\n",
       "    split4_test_score  mean_test_score  std_test_score  rank_test_score  \n",
       "9            0.592439         0.598214        0.014962                1  \n",
       "4            0.452223         0.449120        0.012496                2  \n",
       "11           0.453891         0.448715        0.012755                3  \n",
       "18           0.378449         0.388071        0.009421                4  \n",
       "5            0.376241         0.385665        0.012655                5  "
      ]
     },
     "execution_count": 30,
     "metadata": {},
     "output_type": "execute_result"
    }
   ],
   "source": [
    "results = pd.DataFrame(clf.cv_results_)\n",
    "results = results.sort_values(\"rank_test_score\")\n",
    "results.head()"
   ]
  },
  {
   "cell_type": "markdown",
   "id": "234fc1cc",
   "metadata": {},
   "source": [
    "I build a model using the best hyperparameters found, and apply it to the test set"
   ]
  },
  {
   "cell_type": "code",
   "execution_count": 31,
   "id": "50e87130",
   "metadata": {},
   "outputs": [
    {
     "data": {
      "text/plain": [
       "{'n_estimators': 100,\n",
       " 'min_samples_split': 10,\n",
       " 'min_samples_leaf': 1,\n",
       " 'max_leaf_nodes': None,\n",
       " 'max_features': None,\n",
       " 'max_depth': None}"
      ]
     },
     "execution_count": 31,
     "metadata": {},
     "output_type": "execute_result"
    }
   ],
   "source": [
    "results[\"params\"][9]"
   ]
  },
  {
   "cell_type": "code",
   "execution_count": 35,
   "id": "bd7153d0",
   "metadata": {},
   "outputs": [
    {
     "name": "stdout",
     "output_type": "stream",
     "text": [
      "Mean absolute error: 0.6617428062542967\n"
     ]
    }
   ],
   "source": [
    "model_best = RandomForestRegressor(n_estimators=100, min_samples_split=10, min_samples_leaf=1, max_leaf_nodes=None, max_features=None, max_depth=None)\n",
    "model_best.fit(X_train, y_train)\n",
    "y_pred = model_best.predict(X_test)\n",
    "mae = np.mean(np.abs(y_pred-y_test))\n",
    "print(\"Mean absolute error: {0}\".format(mae))"
   ]
  },
  {
   "cell_type": "code",
   "execution_count": null,
   "id": "ac9c5f7a",
   "metadata": {},
   "outputs": [],
   "source": []
  },
  {
   "cell_type": "code",
   "execution_count": null,
   "id": "e5d3f433",
   "metadata": {},
   "outputs": [],
   "source": []
  },
  {
   "cell_type": "code",
   "execution_count": null,
   "id": "b68f8b11",
   "metadata": {},
   "outputs": [],
   "source": []
  }
 ],
 "metadata": {
  "kernelspec": {
   "display_name": "Python 3 (ipykernel)",
   "language": "python",
   "name": "python3"
  },
  "language_info": {
   "codemirror_mode": {
    "name": "ipython",
    "version": 3
   },
   "file_extension": ".py",
   "mimetype": "text/x-python",
   "name": "python",
   "nbconvert_exporter": "python",
   "pygments_lexer": "ipython3",
   "version": "3.8.10"
  }
 },
 "nbformat": 4,
 "nbformat_minor": 5
}
